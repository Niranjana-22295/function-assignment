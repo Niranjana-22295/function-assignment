{
 "cells": [
  {
   "cell_type": "code",
   "execution_count": 35,
   "metadata": {},
   "outputs": [],
   "source": [
    "class SubfieldsInAI():\n",
    "    def subfields():\n",
    "        print(\"Subfields in AI are:\")\n",
    "        List=[\"Machine learing\",\"Neural networks\",\"Vision\",\"Robotics\",\"speech processing\",\"Natural Language Processing\"]\n",
    "        for i in range(len(List)):\n",
    "            print(List[i])\n",
    "            item=List[i]\n",
    "        "
   ]
  },
  {
   "cell_type": "code",
   "execution_count": 36,
   "metadata": {},
   "outputs": [
    {
     "name": "stdout",
     "output_type": "stream",
     "text": [
      "Subfields in AI are:\n",
      "Machine learing\n",
      "Neural networks\n",
      "Vision\n",
      "Robotics\n",
      "speech processing\n",
      "Natural Language Processing\n"
     ]
    }
   ],
   "source": [
    "SubfieldsInAI.subfields()"
   ]
  },
  {
   "cell_type": "code",
   "execution_count": 37,
   "metadata": {},
   "outputs": [],
   "source": [
    "class OddEven():\n",
    "    def OddEven():\n",
    "        number=int(input(\"Enter a number:\"))\n",
    "        if number%2!=0:\n",
    "            print(number,\"is odd\")\n",
    "            message=\"odd\"\n",
    "        else:\n",
    "            print(number,\"is even\")\n",
    "            message=\"even\"\n",
    "        return message"
   ]
  },
  {
   "cell_type": "code",
   "execution_count": 38,
   "metadata": {},
   "outputs": [
    {
     "name": "stdout",
     "output_type": "stream",
     "text": [
      "Enter a number:52452\n",
      "52452 is even\n"
     ]
    },
    {
     "data": {
      "text/plain": [
       "'even'"
      ]
     },
     "execution_count": 38,
     "metadata": {},
     "output_type": "execute_result"
    }
   ],
   "source": [
    "OddEven.OddEven()"
   ]
  },
  {
   "cell_type": "code",
   "execution_count": 45,
   "metadata": {},
   "outputs": [],
   "source": [
    "class ElegibilityForMarriage():\n",
    "    def Elegible():\n",
    "        gender=input(\"Your Gender: \")\n",
    "        age=int(input(\"Your Age: \"))\n",
    "        if gender=='Male'or 'male':\n",
    "            if age>=21:\n",
    "                print(\"ELEGIBLE\")\n",
    "                message='ELEGIBLE'\n",
    "            else:\n",
    "                print(\"NOT ELEGIBLE\")\n",
    "                message='NOT ELEGIBLE'\n",
    "        elif gender=='Female'or 'female':\n",
    "            if age>=18:\n",
    "                print(\"ELEGIBLE\")\n",
    "                message='ELEGIBLE'\n",
    "            else:\n",
    "                print(\"NOT ELEGIBLE\")\n",
    "                message='NOT ELEGIBLE'\n",
    "        return message"
   ]
  },
  {
   "cell_type": "code",
   "execution_count": 46,
   "metadata": {},
   "outputs": [
    {
     "name": "stdout",
     "output_type": "stream",
     "text": [
      "Your Gender: male\n",
      "Your Age: 20\n",
      "NOT ELEGIBLE\n",
      "ELEGIBLE\n"
     ]
    },
    {
     "data": {
      "text/plain": [
       "'ELEGIBLE'"
      ]
     },
     "execution_count": 46,
     "metadata": {},
     "output_type": "execute_result"
    }
   ],
   "source": [
    "ElegibilityForMarriage.Elegible()"
   ]
  },
  {
   "cell_type": "code",
   "execution_count": 9,
   "metadata": {},
   "outputs": [],
   "source": [
    "class FindPercent():\n",
    "    def percentage():\n",
    "        Sub_list=[]\n",
    "        total=0\n",
    "        for i in range(1,6):\n",
    "            sub=int(input(\"subject \" + str(i) + \" = \"))\n",
    "            Sub_list.append(sub)\n",
    "        for i in range(0,5):\n",
    "            total=total+Sub_list[i] \n",
    "        print(\"total= \",total)\n",
    "        percentage=total/5\n",
    "        print(\"Percentage= \",\"%f\" % percentage)\n",
    "            "
   ]
  },
  {
   "cell_type": "code",
   "execution_count": 10,
   "metadata": {},
   "outputs": [
    {
     "name": "stdout",
     "output_type": "stream",
     "text": [
      "subject 1 = 98\n",
      "subject 2 = 87\n",
      "subject 3 = 95\n",
      "subject 4 = 95\n",
      "subject 5 = 93\n",
      "total=  468\n",
      "Percentage=  93.600000\n"
     ]
    }
   ],
   "source": [
    "FindPercent.percentage()"
   ]
  },
  {
   "cell_type": "code",
   "execution_count": 18,
   "metadata": {},
   "outputs": [],
   "source": [
    "class triangle():\n",
    "    def triangle():\n",
    "        H=int(input(\"Height1 = \"))\n",
    "        breadth=int(input(\"Breadth = \"))\n",
    "        Area=(H*breadth)/2\n",
    "        print(\"Area formula :(H*breadth)/2\")\n",
    "        print(\"Area of triangle = \",Area)\n",
    "        H1=int(input(\"Height1 = \"))\n",
    "        H2=int(input(\"Height2 = \"))\n",
    "        breadth1=int(input(\"Breadth = \"))\n",
    "        perimeter=H1+H2+breadth1\n",
    "        print(\"Perimeter formula : Height1+Height2+breadth\")\n",
    "        print(\"Perimeter of Triangle = \",perimeter)\n",
    "        "
   ]
  },
  {
   "cell_type": "code",
   "execution_count": 19,
   "metadata": {},
   "outputs": [
    {
     "name": "stdout",
     "output_type": "stream",
     "text": [
      "Height1 = 32\n",
      "Breadth = 34\n",
      "Area formula :(H*breadth)/2\n",
      "Area of triangle =  544.0\n",
      "Height1 = 2\n",
      "Height2 = 4\n",
      "Breadth = 4\n",
      "Perimeter formula : Height1+Height2+breadth\n",
      "Perimeter of Triangle =  10\n"
     ]
    }
   ],
   "source": [
    "triangle.triangle()"
   ]
  },
  {
   "cell_type": "code",
   "execution_count": null,
   "metadata": {},
   "outputs": [],
   "source": []
  }
 ],
 "metadata": {
  "kernelspec": {
   "display_name": "Python 3",
   "language": "python",
   "name": "python3"
  }
 },
 "nbformat": 4,
 "nbformat_minor": 2
}
